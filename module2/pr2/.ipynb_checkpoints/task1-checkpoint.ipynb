{
 "cells": [
  {
   "cell_type": "code",
   "execution_count": 23,
   "id": "16f55385",
   "metadata": {},
   "outputs": [],
   "source": [
    "import pandas as pd \n",
    "titanic_data=pd.read_csv('titanic.csv')"
   ]
  },
  {
   "cell_type": "markdown",
   "id": "1f883c60",
   "metadata": {},
   "source": [
    "## Задача 1 "
   ]
  },
  {
   "cell_type": "markdown",
   "id": "2bab892d",
   "metadata": {},
   "source": [
    "### 1.1 Общую выживаемость всех пассажиров Титаника"
   ]
  },
  {
   "cell_type": "code",
   "execution_count": 36,
   "id": "b96f1c88",
   "metadata": {},
   "outputs": [
    {
     "data": {
      "text/plain": [
       "38.38383838383838"
      ]
     },
     "execution_count": 36,
     "metadata": {},
     "output_type": "execute_result"
    }
   ],
   "source": [
    "sgb=titanic_data.groupby('Survived')\n",
    "sgb['Survived'].count()[1]/len(titanic_data) *100"
   ]
  },
  {
   "cell_type": "markdown",
   "id": "1cc59370",
   "metadata": {},
   "source": [
    "### 1.2 Определите максимальную и минимальную плату за билет."
   ]
  },
  {
   "cell_type": "code",
   "execution_count": 40,
   "id": "bdc99972",
   "metadata": {},
   "outputs": [
    {
     "name": "stdout",
     "output_type": "stream",
     "text": [
      "512.3292 0.0\n"
     ]
    }
   ],
   "source": [
    "max_price = titanic_data['Fare'].max()\n",
    "min_price= titanic_data['Fare'].min()\n",
    "print(max_price,min_price)"
   ]
  },
  {
   "cell_type": "markdown",
   "id": "9254e565",
   "metadata": {},
   "source": [
    "### 1.3 Определите средний возраст пассажиров Титаника. "
   ]
  },
  {
   "cell_type": "code",
   "execution_count": 41,
   "id": "beac6f4e",
   "metadata": {},
   "outputs": [
    {
     "data": {
      "text/plain": [
       "29.69911764705882"
      ]
     },
     "execution_count": 41,
     "metadata": {},
     "output_type": "execute_result"
    }
   ],
   "source": [
    "titanic_data['Age'].mean()"
   ]
  },
  {
   "cell_type": "markdown",
   "id": "0e2a4340",
   "metadata": {},
   "source": [
    "### 1.4 Определите выживаемость по возрастным интервалам(достаточно 3-ех интервалов)"
   ]
  },
  {
   "cell_type": "code",
   "execution_count": 48,
   "id": "1bda42e3",
   "metadata": {},
   "outputs": [
    {
     "name": "stdout",
     "output_type": "stream",
     "text": [
      "53.98230088495575 38.33017077798861 36.486486486486484\n"
     ]
    }
   ],
   "source": [
    "junior_survived=len(titanic_data[(titanic_data['Survived']==True) & (titanic_data['Age']<18)]) / len(titanic_data[titanic_data['Age']<18])*100\n",
    "middle_survived=len(titanic_data[(titanic_data['Survived']==True) & (titanic_data['Age']>=18) & (titanic_data['Age']<50) ])/len(titanic_data[(titanic_data['Age']>=18) & (titanic_data['Age']<50)])*100\n",
    "old_survived=len(titanic_data[(titanic_data['Survived']==True) & (titanic_data['Age']>=50)])/len(titanic_data[titanic_data['Age']>=50])*100\n",
    "print(junior_survived,middle_survived,old_survived)"
   ]
  },
  {
   "cell_type": "markdown",
   "id": "f906e6cb",
   "metadata": {},
   "source": [
    "### 1.5 Определите общую сумму, потраченную на поездку. "
   ]
  },
  {
   "cell_type": "code",
   "execution_count": 45,
   "id": "91fb9af2",
   "metadata": {},
   "outputs": [
    {
     "data": {
      "text/plain": [
       "28693.9493"
      ]
     },
     "execution_count": 45,
     "metadata": {},
     "output_type": "execute_result"
    }
   ],
   "source": [
    "titanic_data['Fare'].sum()"
   ]
  },
  {
   "cell_type": "code",
   "execution_count": null,
   "id": "8bfb9680",
   "metadata": {},
   "outputs": [],
   "source": []
  }
 ],
 "metadata": {
  "kernelspec": {
   "display_name": "Python 3 (ipykernel)",
   "language": "python",
   "name": "python3"
  },
  "language_info": {
   "codemirror_mode": {
    "name": "ipython",
    "version": 3
   },
   "file_extension": ".py",
   "mimetype": "text/x-python",
   "name": "python",
   "nbconvert_exporter": "python",
   "pygments_lexer": "ipython3",
   "version": "3.9.13"
  }
 },
 "nbformat": 4,
 "nbformat_minor": 5
}
