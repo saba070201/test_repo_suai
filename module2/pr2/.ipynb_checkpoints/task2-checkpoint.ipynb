{
 "cells": [
  {
   "cell_type": "code",
   "execution_count": 88,
   "id": "a90741f0",
   "metadata": {},
   "outputs": [],
   "source": [
    "import pandas as pd \n",
    "import numpy as np "
   ]
  },
  {
   "cell_type": "markdown",
   "id": "c11c265f",
   "metadata": {},
   "source": [
    "## 2.1 "
   ]
  },
  {
   "cell_type": "code",
   "execution_count": 93,
   "id": "2914dfbc",
   "metadata": {},
   "outputs": [],
   "source": [
    "def get_first_variant(df):\n",
    "    additionally_data=[]\n",
    "    for i in df.columns:\n",
    "        additionally_data.append(i)\n",
    "    return pd.DataFrame({'Year':[int(additionally_data[0]),*df['1990']],'Region':[str(additionally_data[1]),*df['Адыгея']],'Population':[float(additionally_data[2]),*df['434788.0']]})\n",
    "def get_second_variant(df):\n",
    "    years=[str(i) for i in df['Year'].unique()]\n",
    "    regions=[str(i) for i in df['Region'].unique()]\n",
    "    pre_data_frame={}\n",
    "    pre_data_frame['Region']=[]\n",
    "    for k in years:\n",
    "        pre_data_frame[str(k)]=[]\n",
    "    for i in regions:\n",
    "        pre_data_frame['Region'].append(i)\n",
    "        for j in years:\n",
    "            try:\n",
    "                pre_data_frame[str(j)].append(float(df[(df['Region']==i) & (df['Year']==int(j))]['Population']))\n",
    "            except:\n",
    "                pre_data_frame[str(j)].append(float(np.nan))\n",
    "    return pd.DataFrame(pre_data_frame)\n",
    "# ugly_data_frame=pd.read_csv('russian_population_by_years.csv')\n",
    "# ugly_data_frame.dtypes\n",
    "# get_first_variant(ugly_data_frame).to_csv('russian_population_by_years_first.csv')\n",
    "first_df=pd.read_csv('russian_population_by_years_first.csv')\n",
    "get_second_variant(first_df).to_csv('russian_population_by_years_second.csv')\n",
    "\n"
   ]
  },
  {
   "cell_type": "code",
   "execution_count": null,
   "id": "d0671d7e",
   "metadata": {},
   "outputs": [],
   "source": []
  }
 ],
 "metadata": {
  "kernelspec": {
   "display_name": "Python 3 (ipykernel)",
   "language": "python",
   "name": "python3"
  },
  "language_info": {
   "codemirror_mode": {
    "name": "ipython",
    "version": 3
   },
   "file_extension": ".py",
   "mimetype": "text/x-python",
   "name": "python",
   "nbconvert_exporter": "python",
   "pygments_lexer": "ipython3",
   "version": "3.9.13"
  }
 },
 "nbformat": 4,
 "nbformat_minor": 5
}
